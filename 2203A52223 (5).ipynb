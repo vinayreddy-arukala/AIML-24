{
  "nbformat": 4,
  "nbformat_minor": 0,
  "metadata": {
    "colab": {
      "provenance": []
    },
    "kernelspec": {
      "name": "python3",
      "display_name": "Python 3"
    },
    "language_info": {
      "name": "python"
    }
  },
  "cells": [
    {
      "cell_type": "code",
      "execution_count": null,
      "metadata": {
        "colab": {
          "base_uri": "https://localhost:8080/"
        },
        "id": "oniVTzfCFTG_",
        "outputId": "0f4c728c-41aa-4a17-a193-eff60cbd6839"
      },
      "outputs": [
        {
          "output_type": "stream",
          "name": "stdout",
          "text": [
            "[1, 4, 6, 8]\n",
            "[2, 3, 5, 7]\n",
            "Type of list1: <class 'list'>\n",
            "Type of array1: <class 'numpy.ndarray'>\n",
            "Mathematical Operations:\n",
            "Multiplication: [ 2 12 30 56]\n",
            "Division: [2.         0.75       0.83333333 0.875     ]\n",
            "Power Off: [ 1 16 36 64]\n",
            "Addition of Two: [1 4 6 8] + [2 3 5 7] \n",
            "= [ 3  7 11 15]\n",
            "np.sin(): [ 0.84147098 -0.7568025  -0.2794155   0.98935825]\n",
            "np.log(): [0.         1.38629436 1.79175947 2.07944154]\n",
            "np.log2(): [0.        2.        2.5849625 3.       ]\n",
            "np.exp(): [2.71828183e+00 5.45981500e+01 4.03428793e+02 2.98095799e+03]\n"
          ]
        }
      ],
      "source": [
        "import numpy as np\n",
        "import pandas as pd\n",
        "\n",
        "#lists\n",
        "list1 = [1,4,6,8]\n",
        "list2 = [2,3,5,7]\n",
        "\n",
        "#arrays\n",
        "array1 = np.array(list1)\n",
        "array2 = np.array(list2)\n",
        "\n",
        "#type()\n",
        "print(list1)\n",
        "print(list2)\n",
        "print(\"Type of list1:\", type(list1))\n",
        "print(\"Type of array1:\", type(array1))\n",
        "\n",
        "#multiplication, division, power off\n",
        "result_multiply = array1 * array2\n",
        "result_divide = array2 / array1\n",
        "result_power = array1 ** 2\n",
        "\n",
        "print(\"Mathematical Operations:\")\n",
        "print(\"Multiplication:\", result_multiply)\n",
        "print(\"Division:\", result_divide)\n",
        "print(\"Power Off:\", result_power)\n",
        "\n",
        "\n",
        "text_output = f\"Addition of Two: {array1} + {array2} \\n= {array1 + array2}\"\n",
        "\n",
        "print(text_output)\n",
        "\n",
        "#np.sin(), log(), log2(), np.exp()\n",
        "sin_values = np.sin(array1)\n",
        "log_values = np.log(array1)\n",
        "log2_values = np.log2(array1)\n",
        "exp_values = np.exp(array1)\n",
        "\n",
        "print(\"np.sin():\", sin_values)\n",
        "print(\"np.log():\", log_values)\n",
        "print(\"np.log2():\", log2_values)\n",
        "print(\"np.exp():\", exp_values)"
      ]
    },
    {
      "cell_type": "code",
      "source": [],
      "metadata": {
        "id": "PrPt0_pOGkpw"
      },
      "execution_count": null,
      "outputs": []
    }
  ]
}