{
  "nbformat": 4,
  "nbformat_minor": 0,
  "metadata": {
    "colab": {
      "provenance": []
    },
    "kernelspec": {
      "name": "python3",
      "display_name": "Python 3"
    },
    "language_info": {
      "name": "python"
    }
  },
  "cells": [
    {
      "cell_type": "code",
      "execution_count": 7,
      "metadata": {
        "colab": {
          "base_uri": "https://localhost:8080/"
        },
        "id": "cM3ZuuHpSzB4",
        "outputId": "8668275b-644e-4fa1-d1e2-1f02addd10d0"
      },
      "outputs": [
        {
          "output_type": "stream",
          "name": "stdout",
          "text": [
            "CSV File:\n",
            "       Name  Age           City  Salary\n",
            "0      John   25       New York   50000\n",
            "1      Jane   30  San Francisco   75000\n",
            "2      Alex   28    Los Angeles   60000\n",
            "3     Emily   32        Chicago   80000\n",
            "4   Michael   27        Houston   55000\n",
            "5  Samantha   29          Miami   65000\n",
            "6     David   31        Seattle   70000\n",
            "7    Olivia   26         Boston   55000\n",
            "8   William   33         Dallas   75000\n",
            "\n",
            "TSV File:\n",
            "   Student_ID\\t Age\\t City\\t GPA\n",
            "0       1001\\t20\\t New York\\t3.5\n",
            "1    1002\\t21\\t Los Angeles\\t3.2\n",
            "2        1003\\t22\\t Chicago\\t3.8\n",
            "3  1004\\t23\\t San Francisco\\t3.4\n",
            "4          1005\\t20\\t Miami\\t3.7\n",
            "5        1006\\t22\\t Seattle\\t3.9\n",
            "6         1007\\t21\\t Austin\\t3.1\n",
            "7         1008\\t24\\t Denver\\t3.6\n",
            "8       1009\\t23\\t Portland\\t3.3\n",
            "9        1010\\t22\\t Phoenix\\t3.8\n",
            "\n",
            "Excel File:\n",
            "   Event_ID  Start_Time   End_Time            Location\n",
            "0      2001    09:00 AM   11:00 AM   Conference Room A\n",
            "1      2002    02:30 PM   04:30 PM          Auditorium\n",
            "2      2003    10:00 AM   12:00 PM      Meeting Room B\n",
            "3      2004    01:00 PM   03:00 PM       Workshop Hall\n",
            "4      2005    11:30 AM   01:30 PM     Training Room C\n",
            "5      2006    03:30 PM   05:30 PM        Seminar Hall\n",
            "6      2007    09:30 AM   11:30 AM           Boardroom\n",
            "7      2008    12:30 PM   02:30 PM     Exhibition Area\n",
            "8      2009    02:00 PM   04:00 PM       Breakout Room\n",
            "9      2010    10:30 AM   12:30 PM              Lounge\n",
            "\n",
            "URL File:\n",
            "       Name  Age           City  Salary\n",
            "0      John   25       New York   50000\n",
            "1      Jane   30  San Francisco   75000\n",
            "2      Alex   28    Los Angeles   60000\n",
            "3     Emily   32        Chicago   80000\n",
            "4   Michael   27        Houston   55000\n",
            "5  Samantha   29          Miami   65000\n",
            "6     David   31        Seattle   70000\n",
            "7    Olivia   26         Boston   55000\n",
            "8   William   33         Dallas   75000\n"
          ]
        }
      ],
      "source": [
        "import pandas as pd\n",
        "\n",
        "#excel file\n",
        "excel_path = '/content/dataset3.xlsx'\n",
        "df = pd.read_excel(excel_path)\n",
        "\n",
        "# Read CSV file\n",
        "csv_file = pd.read_csv(\"/content/dataset1.csv\")\n",
        "\n",
        "# Read TSV file\n",
        "tsv_file = pd.read_csv(\"/content/dataset2.txt\")\n",
        "\n",
        "# Read through URL\n",
        "url = \"/content/dataset1.csv\"\n",
        "a = pd.read_csv(url)\n",
        "\n",
        "print(\"CSV File:\")\n",
        "print(csv_file)\n",
        "print(\"\")\n",
        "\n",
        "print(\"TSV File:\")\n",
        "print(tsv_file)\n",
        "print(\"\")\n",
        "\n",
        "print(\"Excel File:\")\n",
        "print(df)\n",
        "print(\"\")\n",
        "\n",
        "print(\"URL File:\")\n",
        "print(a)"
      ]
    },
    {
      "cell_type": "code",
      "source": [],
      "metadata": {
        "id": "wrPzDbRGSGQg"
      },
      "execution_count": null,
      "outputs": []
    }
  ]
}